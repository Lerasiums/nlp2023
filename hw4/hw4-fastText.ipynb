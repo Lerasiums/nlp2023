{
 "cells": [
  {
   "cell_type": "code",
   "execution_count": 1,
   "id": "20ad8950",
   "metadata": {},
   "outputs": [
    {
     "name": "stdout",
     "output_type": "stream",
     "text": [
      "gensim 4.3.0\n",
      "jieba 0.42.1\n"
     ]
    }
   ],
   "source": [
    "import os\n",
    "import gensim\n",
    "import jieba\n",
    "import zhconv\n",
    "\n",
    "if (not os.path.isfile(\"dict.txt.big\")):\n",
    "    ! wget https://github.com/fxsjy/jieba/raw/master/extra_dict/dict.txt.big\n",
    "\n",
    "jieba.set_dictionary(\"dict.txt.big\")\n",
    "print(\"gensim\", gensim.__version__)\n",
    "print(\"jieba\", jieba.__version__)"
   ]
  },
  {
   "cell_type": "code",
   "execution_count": 2,
   "id": "7789f16d",
   "metadata": {},
   "outputs": [],
   "source": [
    "import spacy\n",
    "\n",
    "nlp_zh = spacy.load(\"zh_core_web_sm\")\n",
    "nlp_en = spacy.load(\"en_core_web_sm\")"
   ]
  },
  {
   "cell_type": "code",
   "execution_count": 3,
   "id": "6ee9c465",
   "metadata": {},
   "outputs": [
    {
     "name": "stdout",
     "output_type": "stream",
     "text": [
      "2222\n",
      "3005\n"
     ]
    }
   ],
   "source": [
    "STOPWORDS =  nlp_zh.Defaults.stop_words | \\\n",
    "             nlp_en.Defaults.stop_words | \\\n",
    "             set([\"\\n\", \"\\r\\n\", \"\\t\", \" \", \"\"])\n",
    "print(len(STOPWORDS))\n",
    "\n",
    "# 將簡體停用詞轉成繁體，擴充停用詞表\n",
    "for word in STOPWORDS.copy():\n",
    "    STOPWORDS.add(zhconv.convert(word, \"zh-tw\"))\n",
    "    \n",
    "print(len(STOPWORDS))"
   ]
  },
  {
   "cell_type": "code",
   "execution_count": 4,
   "id": "024c77f5",
   "metadata": {},
   "outputs": [],
   "source": [
    "def preprocess_and_tokenize(text, token_min_len = 1, token_max_len = 15, lower = True):\n",
    "    if (lower):\n",
    "        text = text.lower()\n",
    "    text = zhconv.convert(text, \"zh-tw\")\n",
    "    return [\n",
    "        token for token in jieba.cut(text, cut_all = False)\n",
    "        if token_min_len <= len(token) <= token_max_len and token not in STOPWORDS\n",
    "    ]"
   ]
  },
  {
   "cell_type": "code",
   "execution_count": 7,
   "id": "41d5f1aa",
   "metadata": {},
   "outputs": [
    {
     "name": "stderr",
     "output_type": "stream",
     "text": [
      "Building prefix dict from C:\\Users\\user\\Desktop\\notebook\\nlp\\HW4\\dict.txt.big ...\n",
      "Loading model from cache C:\\Users\\user\\AppData\\Local\\Temp\\jieba.u1860406d2d6aafb868e1ddf4bccba943.cache\n",
      "Loading model cost 1.383 seconds.\n",
      "Prefix dict has been built successfully.\n"
     ]
    }
   ],
   "source": [
    "import fasttext\n",
    "import fasttext.util\n",
    "\n",
    "tokenized_data = []\n",
    "n = 0\n",
    "with open(\"wiki_seg.txt\", encoding=\"utf-8\") as f:\n",
    "    for row in f.readlines():\n",
    "        tokenized_data.append(preprocess_and_tokenize(row))"
   ]
  },
  {
   "cell_type": "code",
   "execution_count": 10,
   "id": "98043f5b",
   "metadata": {},
   "outputs": [],
   "source": [
    "from gensim.models import FastText\n",
    "\n",
    "model = FastText()\n",
    "\n",
    "model.build_vocab(tokenized_data)\n",
    "model.train(tokenized_data, total_examples = len(tokenized_data), epochs = 100) \n",
    "\n",
    "model.save(\"fasttext.mdl\")"
   ]
  },
  {
   "cell_type": "code",
   "execution_count": 12,
   "id": "bb9c75d1",
   "metadata": {},
   "outputs": [
    {
     "name": "stdout",
     "output_type": "stream",
     "text": [
      "[('飲品', 0.9097651),\n",
      " ('果汁', 0.8754865),\n",
      " ('酒類', 0.7625548),\n",
      " ('啤酒', 0.7542788),\n",
      " ('可口可樂', 0.7510687),\n",
      " ('冰淇淋', 0.7476611),\n",
      " ('牛奶', 0.7422941),\n",
      " ('軟飲料', 0.7361464),\n",
      " ('罐裝', 0.7289342),\n",
      " ('口香糖', 0.7188053)]\n"
     ]
    }
   ],
   "source": [
    "model.wv.most_similar(\"飲料\")"
   ]
  },
  {
   "cell_type": "code",
   "execution_count": 13,
   "id": "3189ce2a",
   "metadata": {},
   "outputs": [
    {
     "name": "stdout",
     "output_type": "stream",
     "text": [
      "[('motorcoach', 0.8330657),\n",
      " ('truck', 0.8212014),\n",
      " ('cab', 0.8202789),\n",
      " ('motorcar', 0.8142311),\n",
      " ('seat', 0.8125936),\n",
      " ('motor', 0.8124716),\n",
      " ('motorcycle', 0.8039779),\n",
      " ('roadster', 0.7971475),\n",
      " ('motorist', 0.7958347),\n",
      " ('automobile', 0.7922669)]\n"
     ]
    }
   ],
   "source": [
    "model.wv.most_similar(\"car\")"
   ]
  },
  {
   "cell_type": "code",
   "execution_count": 14,
   "id": "287788ef",
   "metadata": {},
   "outputs": [
    {
     "name": "stdout",
     "output_type": "stream",
     "text": [
      "[('youtubefacebook', 0.8432591),\n",
      " ('instagram', 0.83393224),\n",
      " ('thefacebook', 0.7911547),\n",
      " ('專頁', 0.7892121),\n",
      " ('youtube', 0.7576334),\n",
      " ('lnstagram', 0.7363649),\n",
      " ('myspace', 0.7351787),\n",
      " ('linkedin', 0.7348244),\n",
      " ('telegram', 0.7286041),\n",
      " ('whatsapp', 0.7261969)]\n"
     ]
    }
   ],
   "source": [
    "model.wv.most_similar(\"facebook\")"
   ]
  },
  {
   "cell_type": "code",
   "execution_count": 15,
   "id": "8642a0d5",
   "metadata": {},
   "outputs": [
    {
     "name": "stdout",
     "output_type": "stream",
     "text": [
      "[('欺詐', 0.7847247),\n",
      " ('詐騙', 0.6378833),\n",
      " ('竊盜', 0.5811350),\n",
      " ('殺人', 0.5783799),\n",
      " ('被害者', 0.5751656),\n",
      " ('詐欺罪', 0.5725432),\n",
      " ('誘拐', 0.5717222),\n",
      " ('委託人', 0.5662581),\n",
      " ('詐騙者', 0.5610893),\n",
      " ('信用調查', 0.5583631)]\n"
     ]
    }
   ],
   "source": [
    "model.wv.most_similar(\"詐欺\")"
   ]
  },
  {
   "cell_type": "code",
   "execution_count": 16,
   "id": "5495f62b",
   "metadata": {
    "scrolled": true
   },
   "outputs": [
    {
     "name": "stdout",
     "output_type": "stream",
     "text": [
      "[('合同', 0.7991111),\n",
      " ('簽約', 0.7823647),\n",
      " ('續約', 0.7787457),\n",
      " ('到期', 0.7484624),\n",
      " ('簽下', 0.7096284),\n",
      " ('租約', 0.7023362),\n",
      " ('買斷', 0.6730079),\n",
      " ('選擇權', 0.6726822),\n",
      " ('新東家', 0.6714864),\n",
      " ('解約', 0.6664419)]\n"
     ]
    }
   ],
   "source": [
    "model.wv.most_similar(\"合約\")"
   ]
  },
  {
   "cell_type": "code",
   "execution_count": 17,
   "id": "94af772e",
   "metadata": {},
   "outputs": [
    {
     "name": "stdout",
     "output_type": "stream",
     "text": [
      "[('飲品', 0.9090546),\n",
      " ('果汁', 0.8486888),\n",
      " ('酒類', 0.7625674),\n",
      " ('啤酒', 0.7542456),\n",
      " ('可口可樂', 0.7510691),\n",
      " ('冰淇淋', 0.7476711),\n",
      " ('牛奶', 0.7422449),\n",
      " ('軟飲料', 0.7361465),\n",
      " ('罐裝', 0.7284132),\n",
      " ('口香糖', 0.7188053)]\n"
     ]
    }
   ],
   "source": [
    "model.wv.most_similar(\"飲料\")"
   ]
  },
  {
   "cell_type": "code",
   "execution_count": 19,
   "id": "4d54c00b",
   "metadata": {},
   "outputs": [
    {
     "name": "stdout",
     "output_type": "stream",
     "text": [
      "0.91527834\n"
     ]
    }
   ],
   "source": [
    "model.wv.similarity(\"連結\", \"鏈結\")"
   ]
  },
  {
   "cell_type": "code",
   "execution_count": 20,
   "id": "641cbc17",
   "metadata": {},
   "outputs": [
    {
     "name": "stdout",
     "output_type": "stream",
     "text": [
      "0.05147627\n"
     ]
    }
   ],
   "source": [
    "model.wv.similarity(\"連結\", \"陰天\")"
   ]
  },
  {
   "cell_type": "code",
   "execution_count": null,
   "id": "6badf4ec",
   "metadata": {},
   "outputs": [],
   "source": []
  }
 ],
 "metadata": {
  "kernelspec": {
   "display_name": "Python 3 (ipykernel)",
   "language": "python",
   "name": "python3"
  },
  "language_info": {
   "codemirror_mode": {
    "name": "ipython",
    "version": 3
   },
   "file_extension": ".py",
   "mimetype": "text/x-python",
   "name": "python",
   "nbconvert_exporter": "python",
   "pygments_lexer": "ipython3",
   "version": "3.9.16"
  }
 },
 "nbformat": 4,
 "nbformat_minor": 5
}
