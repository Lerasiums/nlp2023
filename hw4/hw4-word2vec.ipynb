{
 "cells": [
  {
   "cell_type": "code",
   "execution_count": 1,
   "id": "d3ae2c23",
   "metadata": {},
   "outputs": [
    {
     "name": "stdout",
     "output_type": "stream",
     "text": [
      "Requirement already satisfied: memory_profiler in c:\\users\\user\\anaconda3\\lib\\site-packages (0.61.0)\n",
      "Requirement already satisfied: psutil in c:\\users\\user\\anaconda3\\lib\\site-packages (from memory_profiler) (5.9.0)\n"
     ]
    }
   ],
   "source": [
    "!pip install memory_profiler"
   ]
  },
  {
   "cell_type": "code",
   "execution_count": 2,
   "id": "67d0fbae",
   "metadata": {},
   "outputs": [],
   "source": [
    "%load_ext memory_profiler\n",
    "!pip install -q zhconv"
   ]
  },
  {
   "cell_type": "code",
   "execution_count": 1,
   "id": "e918d35a",
   "metadata": {},
   "outputs": [
    {
     "name": "stdout",
     "output_type": "stream",
     "text": [
      "gensim 4.3.0\n",
      "jieba 0.42.1\n"
     ]
    }
   ],
   "source": [
    "import os \n",
    "\n",
    "# Packages\n",
    "import gensim\n",
    "import jieba\n",
    "import zhconv\n",
    "from gensim.corpora import WikiCorpus\n",
    "from datetime import datetime as dt\n",
    "from typing import List\n",
    "\n",
    "\n",
    "if not os.path.isfile('dict.txt.big'):\n",
    "    !wget https://github.com/fxsjy/jieba/raw/master/extra_dict/dict.txt.big\n",
    "jieba.set_dictionary('dict.txt.big')\n",
    "\n",
    "print(\"gensim\", gensim.__version__)\n",
    "print(\"jieba\", jieba.__version__)"
   ]
  },
  {
   "cell_type": "code",
   "execution_count": null,
   "id": "de1e9cc8",
   "metadata": {},
   "outputs": [],
   "source": [
    "import urllib.request\n",
    "url = \"https://github.com/fxsjy/jieba/raw/master/extra_dict/dict.txt.big\"\n",
    "filename = \"dict.txt.big\"\n",
    "urllib.request.urlretrieve(url, filename)"
   ]
  },
  {
   "cell_type": "code",
   "execution_count": null,
   "id": "0d7b0a49",
   "metadata": {},
   "outputs": [],
   "source": [
    "import urllib.request\n",
    "url = \"https://dumps.wikimedia.org/zhwiki/20230501/zhwiki-20230501-pages-articles.xml.bz2\"\n",
    "\n",
    "filename = \"zhwiki-20230501-pages-articles.xml.bz2\"\n",
    "urllib.request.urlretrieve(url, filename)"
   ]
  },
  {
   "cell_type": "code",
   "execution_count": 12,
   "id": "c579aef6",
   "metadata": {},
   "outputs": [
    {
     "name": "stdout",
     "output_type": "stream",
     "text": [
      "File size: 2509.82 MB\n"
     ]
    }
   ],
   "source": [
    "import os\n",
    "\n",
    "ZhWiki = r\"C:\\Users\\user\\Desktop\\notebook\\nlp\\HW4\\zhwiki-20230501-pages-articles.xml.bz2\"\n",
    "\n",
    "print(f\"File size: {os.path.getsize(ZhWiki) / (1024*1024):.2f} MB\")"
   ]
  },
  {
   "cell_type": "code",
   "execution_count": 3,
   "id": "80ee6c2d",
   "metadata": {},
   "outputs": [
    {
     "data": {
      "text/plain": [
       "'這原本是一段簡體中文'"
      ]
     },
     "execution_count": 3,
     "metadata": {},
     "output_type": "execute_result"
    }
   ],
   "source": [
    "zhconv.convert(\"这原本是一段简体中文\", \"zh-tw\")"
   ]
  },
  {
   "cell_type": "code",
   "execution_count": 4,
   "id": "a71d0669",
   "metadata": {},
   "outputs": [
    {
     "name": "stderr",
     "output_type": "stream",
     "text": [
      "Building prefix dict from C:\\Users\\user\\Desktop\\notebook\\nlp\\HW4\\dict.txt.big ...\n",
      "Loading model from cache C:\\Users\\user\\AppData\\Local\\Temp\\jieba.u1860406d2d6aafb868e1ddf4bccba943.cache\n",
      "Loading model cost 0.891 seconds.\n",
      "Prefix dict has been built successfully.\n"
     ]
    },
    {
     "name": "stdout",
     "output_type": "stream",
     "text": [
      "Full Mode: 我/ 来到/ 北京/ 清华/ 清华大学/ 华大/ 大学\n",
      "Default Mode: 我/ 来到/ 北京/ 清华大学\n"
     ]
    }
   ],
   "source": [
    "seg_list = jieba.cut(\"我来到北京清华大学\", cut_all=True)\n",
    "print(\"Full Mode: \" + \"/ \".join(seg_list))  # 全模式\n",
    "\n",
    "seg_list = jieba.cut(\"我来到北京清华大学\", cut_all=False)\n",
    "print(\"Default Mode: \" + \"/ \".join(seg_list))  # 精確模式"
   ]
  },
  {
   "cell_type": "code",
   "execution_count": 5,
   "id": "773b328a",
   "metadata": {},
   "outputs": [
    {
     "name": "stdout",
     "output_type": "stream",
     "text": [
      "['中', '英', '夾雜', '的', 'example', '，', 'Word2Vec', '應該', '很', 'interesting', '吧', '?']\n"
     ]
    }
   ],
   "source": [
    "print(list(jieba.cut(\"中英夾雜的example，Word2Vec應該很interesting吧?\")))"
   ]
  },
  {
   "cell_type": "code",
   "execution_count": null,
   "id": "7f6d4f2b",
   "metadata": {},
   "outputs": [],
   "source": []
  },
  {
   "cell_type": "code",
   "execution_count": null,
   "id": "d4ac5adb",
   "metadata": {},
   "outputs": [],
   "source": []
  },
  {
   "cell_type": "code",
   "execution_count": null,
   "id": "a03be572",
   "metadata": {},
   "outputs": [],
   "source": []
  },
  {
   "cell_type": "code",
   "execution_count": 7,
   "id": "3adda925",
   "metadata": {},
   "outputs": [
    {
     "name": "stdout",
     "output_type": "stream",
     "text": [
      "--\n",
      "\n",
      "中文停用詞 Total=1891: ['一个', '总是', '这种', '以致', '一时', '归根到底', '以后', '即若', '逐步', '反之', '唯有', '`', '仅', '清楚', '却不', '大概', '专门', '仅仅', '的话', '着呢'] ...\n",
      "--\n",
      "英文停用詞 Total=326: ['thence', 'could', 'alone', 'just', 'regarding', 'whether', 'herself', 'meanwhile', 'noone', 'herein', 'something', 'forty', 'last', 'themselves', 'at', 'ever', 'few', 'amongst', 'on', 'is'] ...\n"
     ]
    }
   ],
   "source": [
    "\n",
    "import spacy\n",
    "\n",
    "# # 下載語言模組\n",
    "# spacy.cli.download(\"zh_core_web_sm\")  # 下載 spacy 中文模組\n",
    "# spacy.cli.download(\"en_core_web_sm\")  # 下載 spacy 英文模組\n",
    "\n",
    "nlp_zh = spacy.load(\"zh_core_web_sm\") # 載入 spacy 中文模組\n",
    "nlp_en = spacy.load(\"en_core_web_sm\") # 載入 spacy 英文模組\n",
    "\n",
    "# 印出前20個停用詞\n",
    "print('--\\n')\n",
    "print(f\"中文停用詞 Total={len(nlp_zh.Defaults.stop_words)}: {list(nlp_zh.Defaults.stop_words)[:20]} ...\")\n",
    "print(\"--\")\n",
    "print(f\"英文停用詞 Total={len(nlp_en.Defaults.stop_words)}: {list(nlp_en.Defaults.stop_words)[:20]} ...\")"
   ]
  },
  {
   "cell_type": "code",
   "execution_count": 8,
   "id": "77fcb7e2",
   "metadata": {},
   "outputs": [
    {
     "name": "stdout",
     "output_type": "stream",
     "text": [
      "2222\n",
      "3005\n"
     ]
    }
   ],
   "source": [
    "STOPWORDS =  nlp_zh.Defaults.stop_words | \\\n",
    "             nlp_en.Defaults.stop_words | \\\n",
    "             set([\"\\n\", \"\\r\\n\", \"\\t\", \" \", \"\"])\n",
    "print(len(STOPWORDS))\n",
    "\n",
    "# 將簡體停用詞轉成繁體，擴充停用詞表\n",
    "for word in STOPWORDS.copy():\n",
    "    STOPWORDS.add(zhconv.convert(word, \"zh-tw\"))\n",
    "    \n",
    "print(len(STOPWORDS))"
   ]
  },
  {
   "cell_type": "code",
   "execution_count": 9,
   "id": "008d0f55",
   "metadata": {},
   "outputs": [],
   "source": [
    "def preprocess_and_tokenize(\n",
    "    text: str, token_min_len: int=1, token_max_len: int=15, lower: bool=True) -> List[str]:\n",
    "    if lower:\n",
    "        text  = text.lower()\n",
    "    text = zhconv.convert(text, \"zh-tw\")\n",
    "    return [\n",
    "        token for token in jieba.cut(text, cut_all=False)\n",
    "        if token_min_len <= len(token) <= token_max_len and \\\n",
    "            token not in STOPWORDS\n",
    "    ]"
   ]
  },
  {
   "cell_type": "code",
   "execution_count": 10,
   "id": "1031c61a",
   "metadata": {},
   "outputs": [
    {
     "name": "stdout",
     "output_type": "stream",
     "text": [
      "['歐幾', '裡得', '西元前', '世紀', '古希臘', '數學家', '幾何', '父', '此畫', '拉斐爾']\n",
      "['來到', '北京', '清華大學']\n",
      "['中', '英', '夾雜', 'example', 'word2vec', 'interesting']\n"
     ]
    }
   ],
   "source": [
    "print(preprocess_and_tokenize(\"歐幾里得，西元前三世紀的古希臘數學家，現在被認為是幾何之父，此畫為拉斐爾\"))\n",
    "print(preprocess_and_tokenize(\"我来到北京清华大学\"))\n",
    "print(preprocess_and_tokenize(\"中英夾雜的example，Word2Vec應該很interesting吧?\"))"
   ]
  },
  {
   "cell_type": "code",
   "execution_count": 13,
   "id": "60f3f387",
   "metadata": {},
   "outputs": [
    {
     "name": "stdout",
     "output_type": "stream",
     "text": [
      "Parsing C:\\Users\\user\\Desktop\\notebook\\nlp\\HW4\\zhwiki-20230501-pages-articles.xml.bz2...\n"
     ]
    }
   ],
   "source": [
    "print(f\"Parsing {ZhWiki}...\")\n",
    "wiki_corpus = WikiCorpus(ZhWiki, token_min_len=1)"
   ]
  },
  {
   "cell_type": "code",
   "execution_count": 14,
   "id": "74b734d9",
   "metadata": {},
   "outputs": [
    {
     "name": "stdout",
     "output_type": "stream",
     "text": [
      "['歐幾里得', '西元前三世紀的古希臘數學家', '現在被認為是幾何之父', '此畫為拉斐爾的作品', '雅典學院', '数学', '是研究數量', '屬於形式科學的一種', '數學利用抽象化和邏輯推理', '從計數']\n",
      "['蘇格拉底之死', '由雅克', '路易', '大卫所繪', '年', '哲學', '是研究普遍的', '基本问题的学科', '包括存在', '知识']\n",
      "['文學', '在狭义上', '是一种语言艺术', '亦即使用语言文字为手段', '形象化地反映客观社会生活', '表达主观作者思想感情的一种艺术', '文学不仅强调传达思想观念', '更强调传达方式的独特性', '且讲究辞章的美感', '文学']\n"
     ]
    }
   ],
   "source": [
    "g = wiki_corpus.get_texts()\n",
    "print(next(g)[:10])\n",
    "print(next(g)[:10])\n",
    "print(next(g)[:10])\n",
    "\n",
    "\n",
    "# print(jieba.lcut(\"\".join(next(g))[:50]))\n",
    "# print(jieba.lcut(\"\".join(next(g))[:50]))"
   ]
  },
  {
   "cell_type": "code",
   "execution_count": 15,
   "id": "7e85920a",
   "metadata": {},
   "outputs": [
    {
     "name": "stdout",
     "output_type": "stream",
     "text": [
      "[2023-05-14 02:47:24] 已寫入 99999 篇斷詞文章\n",
      "[2023-05-14 02:51:14] 已寫入 199999 篇斷詞文章\n",
      "[2023-05-14 02:58:02] 已寫入 299999 篇斷詞文章\n",
      "[2023-05-14 03:02:42] 已寫入 399999 篇斷詞文章\n"
     ]
    }
   ],
   "source": [
    "WIKI_SEG_TXT = \"wiki_seg.txt\"\n",
    "\n",
    "generator = wiki_corpus.get_texts()\n",
    "\n",
    "with open(WIKI_SEG_TXT, \"w\", encoding='utf-8') as output:\n",
    "    for texts_num, tokens in enumerate(generator):\n",
    "        output.write(\" \".join(tokens) + \"\\n\")\n",
    "\n",
    "        if (texts_num + 1) % 100000 == 0:\n",
    "            print(f\"[{str(dt.now()):.19}] 已寫入 {texts_num} 篇斷詞文章\")"
   ]
  },
  {
   "cell_type": "code",
   "execution_count": 17,
   "id": "11b54bb7",
   "metadata": {},
   "outputs": [
    {
     "name": "stdout",
     "output_type": "stream",
     "text": [
      "Use 12 workers to train Word2Vec (dim=300)\n",
      "CPU times: total: 36min 29s\n",
      "Wall time: 9min 28s\n"
     ]
    }
   ],
   "source": [
    "%%time\n",
    "\n",
    "from gensim.models import word2vec\n",
    "import multiprocessing\n",
    "\n",
    "max_cpu_counts = multiprocessing.cpu_count()\n",
    "word_dim_size = 300\n",
    "print(f\"Use {max_cpu_counts} workers to train Word2Vec (dim={word_dim_size})\")\n",
    "\n",
    "\n",
    "sentences = word2vec.LineSentence(WIKI_SEG_TXT)\n",
    "\n",
    "model = word2vec.Word2Vec(sentences, vector_size=word_dim_size, workers=max_cpu_counts)\n",
    "\n",
    "output_model = f\"word2vec.zh.{word_dim_size}.model\"\n",
    "model.save(output_model)"
   ]
  },
  {
   "cell_type": "code",
   "execution_count": 19,
   "id": "17b515a2",
   "metadata": {},
   "outputs": [
    {
     "name": "stdout",
     "output_type": "stream",
     "text": [
      " 磁碟區 C 中的磁碟是 OS\n",
      " 磁碟區序號:  2E58-FFAB\n",
      "\n",
      " C:\\Users\\user\\Desktop\\notebook\\nlp\\HW4 的目錄\n",
      "\n",
      "2023/05/14  上午 03:41        58,888,453 word2vec.zh.300.model\n",
      "2023/05/14  上午 03:41     1,894,270,928 word2vec.zh.300.model.syn1neg.npy\n",
      "2023/05/14  上午 03:40     1,894,270,928 word2vec.zh.300.model.wv.vectors.npy\n",
      "               3 個檔案   3,847,430,309 位元組\n",
      "               0 個目錄  233,171,443,712 位元組可用\n"
     ]
    }
   ],
   "source": [
    "!dir word2vec.zh*"
   ]
  },
  {
   "cell_type": "code",
   "execution_count": 21,
   "id": "02157e0e",
   "metadata": {},
   "outputs": [
    {
     "name": "stdout",
     "output_type": "stream",
     "text": [
      "(1578559, 300)\n"
     ]
    },
    {
     "data": {
      "text/plain": [
       "array([[-1.6653749e+00,  1.0125446e+00, -2.3497075e-01, ...,\n",
       "         6.5279901e-01, -6.3151971e-02, -3.9201072e-01],\n",
       "       [-1.1377993e+00,  3.5012981e-01, -1.2351167e+00, ...,\n",
       "         2.3135342e-01,  1.4836991e-01, -2.0512626e+00],\n",
       "       [-1.2004058e+00,  2.7550453e-01, -1.2185031e+00, ...,\n",
       "        -7.0264214e-01,  2.3253256e-01, -1.2694845e+00],\n",
       "       ...,\n",
       "       [-6.8653323e-02,  5.9258785e-02,  2.8251331e-02, ...,\n",
       "        -3.3067100e-02,  1.9669712e-02,  7.4995020e-03],\n",
       "       [-2.5511291e-02,  3.4906086e-02,  3.3190895e-03, ...,\n",
       "        -2.7539186e-02, -6.2455032e-03,  1.2487747e-03],\n",
       "       [-2.2402661e-02, -4.6018749e-02,  1.7832810e-02, ...,\n",
       "         8.2145467e-02, -2.6185357e-03,  3.2317400e-02]], dtype=float32)"
      ]
     },
     "execution_count": 21,
     "metadata": {},
     "output_type": "execute_result"
    }
   ],
   "source": [
    "print(model.wv.vectors.shape)\n",
    "model.wv.vectors"
   ]
  },
  {
   "cell_type": "code",
   "execution_count": 22,
   "id": "f439dfb4",
   "metadata": {},
   "outputs": [
    {
     "name": "stdout",
     "output_type": "stream",
     "text": [
      "(300,)\n"
     ]
    },
    {
     "data": {
      "text/plain": [
       "array([ 1.73590153e-01,  1.05861150e-01,  3.86546999e-01,  1.94412321e-01,\n",
       "        7.13969707e-01, -1.70435771e-01, -7.49925196e-01,  6.25101864e-01,\n",
       "       -2.42575899e-01, -2.36235216e-01, -3.97005975e-01,  1.40192702e-01,\n",
       "       -3.94991428e-01,  3.90102625e-01, -9.47430074e-01, -1.05168450e+00,\n",
       "       -6.88838840e-01,  8.04549605e-02, -8.90006572e-02, -1.12779295e+00,\n",
       "       -2.23094583e-01,  3.04401278e-01, -1.58859994e-02,  3.81029606e-01,\n",
       "        6.79669797e-01,  2.04536229e-01,  2.28729635e-01, -8.49799871e-01,\n",
       "       -6.86421514e-01,  6.18912280e-01, -8.74497294e-01, -2.23667756e-01,\n",
       "       -7.07294866e-02, -1.22630227e+00, -2.07038015e-01, -4.31582600e-01,\n",
       "        4.51020658e-01,  5.69446206e-01,  4.24137592e-01, -7.33164847e-01,\n",
       "        1.06270885e+00,  3.62023711e-01, -7.49031484e-01, -4.94351327e-01,\n",
       "       -8.03193271e-01, -8.89117196e-02,  1.33800149e-01, -3.36436629e-01,\n",
       "       -1.22809696e+00,  4.24327284e-01,  2.93678939e-01, -5.99473953e-01,\n",
       "        6.63600788e-02,  2.62879312e-01,  3.61034691e-01,  4.62778509e-01,\n",
       "       -4.32185233e-02, -2.53500372e-01, -1.22598958e+00, -3.50774705e-01,\n",
       "        3.17766547e-01, -8.32236469e-01, -1.27992025e-02, -7.29819611e-02,\n",
       "       -1.62444770e-01, -1.00119698e+00, -2.85759956e-01, -1.24853623e+00,\n",
       "        2.90425457e-02,  3.56662571e-01,  4.54109460e-02, -2.17015579e-01,\n",
       "       -9.15125012e-01, -6.47101223e-01, -5.15292466e-01, -3.99453014e-01,\n",
       "       -1.31281304e+00, -7.53818572e-01, -4.24622357e-01,  1.17260683e+00,\n",
       "        3.16786021e-02,  2.06181437e-01,  1.61036134e+00, -5.78405261e-01,\n",
       "       -8.51928413e-01,  8.43687952e-02, -4.49963510e-01,  1.23113357e-01,\n",
       "        7.94604599e-01,  1.77873924e-01, -2.09587976e-01, -4.49379459e-02,\n",
       "        5.37362695e-01, -5.44773161e-01, -2.02043995e-01, -1.49788216e-01,\n",
       "        9.06344712e-01, -4.21405882e-01, -1.99506998e-01, -5.50231695e-01,\n",
       "        5.48210628e-02,  4.17155385e-01, -4.61400062e-01, -5.81640720e-01,\n",
       "        7.14401364e-01,  5.93091309e-01, -1.03228383e-01,  1.06252098e+00,\n",
       "       -5.69860004e-02,  6.53750747e-02, -2.92005807e-01,  1.03278942e-01,\n",
       "        3.97449136e-01, -3.38138968e-01, -1.02526166e-01, -6.23101771e-01,\n",
       "       -2.84895331e-01, -1.53111565e+00,  2.64037788e-01,  1.61983166e-02,\n",
       "       -5.91827154e-01, -1.08753920e+00,  1.34670877e+00,  3.28007489e-01,\n",
       "        5.56094684e-02, -2.67503113e-01,  1.27209783e+00,  1.63879126e-01,\n",
       "       -4.99410152e-01, -7.86466122e-01, -3.09436738e-01, -1.07434607e+00,\n",
       "        3.24648440e-01,  4.84539241e-01,  1.60598442e-01,  3.43937129e-01,\n",
       "        7.64592946e-01,  3.53211552e-01,  6.96989894e-01, -1.54561117e-01,\n",
       "       -6.05747402e-01,  2.55276591e-01,  1.76422620e+00, -7.13210106e-01,\n",
       "        1.13959730e-01,  5.69492638e-01,  5.33497274e-01,  8.00196409e-01,\n",
       "       -7.35539973e-01, -1.50320217e-01,  8.22590470e-01,  1.20513044e-01,\n",
       "        3.83800447e-01,  7.49204934e-01,  8.36285353e-01, -1.52555555e-01,\n",
       "        2.21328251e-02,  4.95178074e-01,  2.49911606e-01,  3.16327870e-01,\n",
       "        3.06199193e-01, -5.74414551e-01, -2.73749411e-01, -7.68475235e-01,\n",
       "       -3.75811487e-01, -2.91718632e-01,  4.92964953e-01, -1.20616567e+00,\n",
       "       -5.86090088e-01,  4.86750484e-01,  6.21262938e-02, -2.04415902e-01,\n",
       "       -3.40074360e-01, -1.03297181e-01, -6.49453253e-02, -5.63927472e-01,\n",
       "       -7.30262930e-03, -1.02570087e-01, -4.88689452e-01,  1.36920583e+00,\n",
       "       -1.03118789e+00, -1.96478754e-01,  1.72282353e-01,  1.24037065e-01,\n",
       "        2.81670719e-01, -1.28768638e-01, -7.31955171e-01,  6.96158707e-01,\n",
       "       -1.22262418e+00, -1.27934366e-01, -6.69988871e-01, -9.62584987e-02,\n",
       "       -5.07305801e-01,  4.35587279e-02, -4.92889807e-03,  1.55492082e-01,\n",
       "       -8.23529959e-01, -1.94951549e-01,  6.33303523e-02,  2.46968761e-01,\n",
       "       -2.25162521e-01, -4.88768257e-02,  1.43074006e-01,  8.27811882e-02,\n",
       "       -1.29040927e-01,  3.74063522e-01, -2.93814331e-01, -2.68902749e-01,\n",
       "       -3.19289029e-01,  4.01403487e-01,  2.28707001e-01, -3.59716356e-01,\n",
       "       -4.98536706e-01,  4.63828802e-01,  7.16557920e-01, -4.69643474e-01,\n",
       "       -7.36510932e-01,  3.96820866e-02,  3.90475124e-01,  7.03137159e-01,\n",
       "        2.07976341e-01, -5.70604265e-01, -1.39502332e-01, -1.55387014e-01,\n",
       "       -5.03716350e-01, -1.28435120e-01,  6.68973029e-02, -5.92034400e-01,\n",
       "        3.32382619e-01, -1.05778563e+00,  5.46518207e-01,  1.06559169e+00,\n",
       "       -5.38995536e-03, -2.74318933e-01,  4.60235596e-01,  8.44479680e-01,\n",
       "       -5.21656930e-01, -2.53093421e-01, -1.29771680e-01, -2.67023832e-01,\n",
       "       -7.79551446e-01, -2.38149717e-01, -7.04342782e-01,  5.23818374e-01,\n",
       "       -5.01899838e-01, -4.01827455e-01, -1.32295892e-01,  1.27258420e+00,\n",
       "       -4.06621426e-01, -6.86595798e-01, -6.35920823e-01,  1.81315448e-02,\n",
       "        3.04722726e-01, -5.97079575e-01,  1.26926899e-01, -5.36140323e-01,\n",
       "       -9.94297341e-02,  4.50762063e-01,  3.16474331e-03,  1.09551442e+00,\n",
       "       -2.55481273e-01, -6.15745068e-01, -4.74356450e-02,  4.97288316e-01,\n",
       "        3.33022565e-01, -4.93229240e-01,  3.45670253e-01,  1.51718944e-01,\n",
       "        2.37879202e-01, -1.02211285e+00, -1.08511925e+00,  6.14370584e-01,\n",
       "       -5.42890243e-02, -1.19736683e+00,  7.36109018e-01, -1.68143079e-01,\n",
       "       -5.13736546e-01, -6.73408747e-01,  4.57816347e-02,  1.82818204e-01,\n",
       "        6.28399430e-05, -3.46746773e-01, -2.99062490e-01, -8.25757682e-01,\n",
       "       -4.49030697e-01, -1.45313159e-01, -2.16443747e-01, -7.52396941e-01,\n",
       "       -3.01036000e-01, -3.58608305e-01, -4.12097313e-02,  2.62476176e-01,\n",
       "       -8.70996118e-01,  2.05061808e-01, -5.69173276e-01, -3.56761992e-01,\n",
       "        3.62850100e-01, -4.46691275e-01,  3.02805975e-02, -5.12886643e-02],\n",
       "      dtype=float32)"
      ]
     },
     "execution_count": 22,
     "metadata": {},
     "output_type": "execute_result"
    }
   ],
   "source": [
    "vec = model.wv['數學家']\n",
    "print(vec.shape)\n",
    "vec"
   ]
  },
  {
   "cell_type": "code",
   "execution_count": 23,
   "id": "4baadfce",
   "metadata": {},
   "outputs": [
    {
     "name": "stdout",
     "output_type": "stream",
     "text": [
      "\"Key '這肯定沒見過 ' not present\"\n"
     ]
    }
   ],
   "source": [
    "word = \"這肯定沒見過 \"\n",
    "\n",
    "try:\n",
    "    vec = model.wv[word]\n",
    "except KeyError as e:\n",
    "    print(e)"
   ]
  },
  {
   "cell_type": "code",
   "execution_count": 24,
   "id": "7dfd6a0f",
   "metadata": {},
   "outputs": [
    {
     "data": {
      "text/plain": [
       "[('飲品', 0.8991072773933411),\n",
       " ('服飾', 0.8648388981819153),\n",
       " ('化妝品', 0.8595173954963684),\n",
       " ('零食', 0.8388224840164185),\n",
       " ('冰淇淋', 0.8376069664955139),\n",
       " ('手錶', 0.8360370993614197),\n",
       " ('食品', 0.8342810869216919),\n",
       " ('咖啡', 0.8305132389068604),\n",
       " ('炸雞', 0.8282167911529541),\n",
       " ('家電', 0.8261498212814331)]"
      ]
     },
     "execution_count": 24,
     "metadata": {},
     "output_type": "execute_result"
    }
   ],
   "source": [
    "model.wv.most_similar(\"飲料\", topn=10)"
   ]
  },
  {
   "cell_type": "code",
   "execution_count": 25,
   "id": "d13d3c8e",
   "metadata": {},
   "outputs": [
    {
     "data": {
      "text/plain": [
       "[('truck', 0.7865666747093201),\n",
       " ('motor', 0.7244606614112854),\n",
       " ('seat', 0.7219462990760803),\n",
       " ('wagon', 0.7197807431221008),\n",
       " ('saloon', 0.7161923050880432),\n",
       " ('convertible', 0.7087476849555969),\n",
       " ('cadillac', 0.703136682510376),\n",
       " ('cab', 0.7030538320541382),\n",
       " ('coupe', 0.7013782858848572),\n",
       " ('volkswagen', 0.6992166042327881)]"
      ]
     },
     "execution_count": 25,
     "metadata": {},
     "output_type": "execute_result"
    }
   ],
   "source": [
    "model.wv.most_similar(\"car\")"
   ]
  },
  {
   "cell_type": "code",
   "execution_count": 26,
   "id": "36edaee0",
   "metadata": {},
   "outputs": [
    {
     "data": {
      "text/plain": [
       "[('instagram', 0.8905433416366577),\n",
       " ('臉書', 0.8241996765136719),\n",
       " ('專頁', 0.7852304577827454),\n",
       " ('twitter', 0.7747355103492737),\n",
       " ('myspace', 0.7605185508728027),\n",
       " ('facebook專頁', 0.7534270286560059),\n",
       " ('新浪微博', 0.7309831380844116),\n",
       " ('微博', 0.7263540625572205),\n",
       " ('blogger', 0.7184987664222717),\n",
       " ('推特', 0.716486394405365)]"
      ]
     },
     "execution_count": 26,
     "metadata": {},
     "output_type": "execute_result"
    }
   ],
   "source": [
    "model.wv.most_similar(\"facebook\")"
   ]
  },
  {
   "cell_type": "code",
   "execution_count": 27,
   "id": "6b187d38",
   "metadata": {},
   "outputs": [
    {
     "data": {
      "text/plain": [
       "[('盜竊', 0.8782167434692383),\n",
       " ('賣淫', 0.86126309633255),\n",
       " ('欺詐', 0.8544232845306396),\n",
       " ('洗錢', 0.852938175201416),\n",
       " ('民事訴訟', 0.851272702217102),\n",
       " ('性騷擾', 0.8501027822494507),\n",
       " ('解決問題', 0.8416290879249573),\n",
       " ('竊盜', 0.8415544629096985),\n",
       " ('和理非', 0.8401445150375366),\n",
       " ('誇張', 0.8398345708847046)]"
      ]
     },
     "execution_count": 27,
     "metadata": {},
     "output_type": "execute_result"
    }
   ],
   "source": [
    "model.wv.most_similar(\"詐欺\")"
   ]
  },
  {
   "cell_type": "code",
   "execution_count": 28,
   "id": "8493a5d3",
   "metadata": {},
   "outputs": [
    {
     "data": {
      "text/plain": [
       "[('總值', 0.818697988986969),\n",
       " ('年內', 0.8102073669433594),\n",
       " ('耗資超過', 0.7741891741752625),\n",
       " ('預算為', 0.7729512453079224),\n",
       " ('並被罰款', 0.7723879814147949),\n",
       " ('億新台幣', 0.7714751362800598),\n",
       " ('據了解', 0.7700003385543823),\n",
       " ('花費', 0.7679263353347778),\n",
       " ('被罰款', 0.7666801810264587),\n",
       " ('萬美金', 0.7616029977798462)]"
      ]
     },
     "execution_count": 28,
     "metadata": {},
     "output_type": "execute_result"
    }
   ],
   "source": [
    "model.wv.most_similar(\"合約\")"
   ]
  },
  {
   "cell_type": "code",
   "execution_count": 29,
   "id": "4c35e2e2",
   "metadata": {},
   "outputs": [
    {
     "data": {
      "text/plain": [
       "0.5345687"
      ]
     },
     "execution_count": 29,
     "metadata": {},
     "output_type": "execute_result"
    }
   ],
   "source": [
    "model.wv.similarity(\"連結\", \"鏈結\")"
   ]
  },
  {
   "cell_type": "code",
   "execution_count": 30,
   "id": "525edc9f",
   "metadata": {},
   "outputs": [
    {
     "data": {
      "text/plain": [
       "0.3341626"
      ]
     },
     "execution_count": 30,
     "metadata": {},
     "output_type": "execute_result"
    }
   ],
   "source": [
    "model.wv.similarity(\"連結\", \"陰天\")"
   ]
  },
  {
   "cell_type": "code",
   "execution_count": 31,
   "id": "6bf0b86d",
   "metadata": {},
   "outputs": [
    {
     "name": "stdout",
     "output_type": "stream",
     "text": [
      "Loading word2vec.zh.300.model...\n"
     ]
    }
   ],
   "source": [
    "print(f\"Loading {output_model}...\")\n",
    "new_model = word2vec.Word2Vec.load(output_model)"
   ]
  },
  {
   "cell_type": "code",
   "execution_count": 32,
   "id": "3eaa3811",
   "metadata": {},
   "outputs": [
    {
     "data": {
      "text/plain": [
       "True"
      ]
     },
     "execution_count": 32,
     "metadata": {},
     "output_type": "execute_result"
    }
   ],
   "source": [
    "model.wv.similarity(\"連結\", \"陰天\") == new_model.wv.similarity(\"連結\", \"陰天\")"
   ]
  },
  {
   "cell_type": "code",
   "execution_count": null,
   "id": "f4abf1bc",
   "metadata": {},
   "outputs": [],
   "source": []
  }
 ],
 "metadata": {
  "kernelspec": {
   "display_name": "Python 3 (ipykernel)",
   "language": "python",
   "name": "python3"
  },
  "language_info": {
   "codemirror_mode": {
    "name": "ipython",
    "version": 3
   },
   "file_extension": ".py",
   "mimetype": "text/x-python",
   "name": "python",
   "nbconvert_exporter": "python",
   "pygments_lexer": "ipython3",
   "version": "3.9.16"
  }
 },
 "nbformat": 4,
 "nbformat_minor": 5
}
